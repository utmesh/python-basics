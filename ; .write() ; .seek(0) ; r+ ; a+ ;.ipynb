{
 "cells": [
  {
   "cell_type": "markdown",
   "metadata": {},
   "source": [
    "# writing to a file opened in write mode 'w' or 'w+'"
   ]
  },
  {
   "cell_type": "markdown",
   "metadata": {},
   "source": [
    "# 'w+' means the file is in write plus read mode\n"
   ]
  },
  {
   "cell_type": "markdown",
   "metadata": {},
   "source": [
    "# to read the entire file, the pointer needs to be at the beginning of the file - see .seek() below to set the file pointer"
   ]
  },
  {
   "cell_type": "code",
   "execution_count": 1,
   "metadata": {},
   "outputs": [
    {
     "name": "stdout",
     "output_type": "stream",
     "text": [
      "This is line #1 with 'w'\n",
      "This is line #2 with 'w'\n",
      "This is line #3 withn 'w'!\n"
     ]
    }
   ],
   "source": [
    "new_file = open('new_file.txt', 'w')\n",
    "# [ ] review and run example to write safter any write, the pointer is at the end of text that has been written\n",
    "\n",
    "new_file.write(\"This is line #1 with 'w'\\nThis is line #2 with 'w'\\nThis is line #3 withn 'w'!\")\n",
    "# [ ] review and run example\n",
    "# - close file and re-open in read mode \n",
    "# - head pointer is at start of file\n",
    "new_file.close()\n",
    "new_file = open('new_file.txt', 'r')\n",
    "# [ ] review and run example to see what was written to the file\n",
    "new_text = new_file.read()\n",
    "print(new_text)\n",
    "\n",
    "new_file.close()"
   ]
  },
  {
   "cell_type": "code",
   "execution_count": 2,
   "metadata": {},
   "outputs": [
    {
     "name": "stdout",
     "output_type": "stream",
     "text": [
      "Mercury\n",
      "Venus\n",
      "Mars\n",
      "Earth\n",
      "\n"
     ]
    }
   ],
   "source": [
    "file1 = open('inner_planets.txt','w')\n",
    "file1.write(\"Mercury\\nVenus\\nMars\\nEarth\\n\")\n",
    "file1.close()\n",
    "file1 = open('inner_planets.txt','r')\n",
    "file1_text = file1.read()\n",
    "print(file1_text)\n",
    "file1.close()"
   ]
  },
  {
   "cell_type": "markdown",
   "metadata": {},
   "source": [
    "# seek(0)to set the read/write pointer to beginning of file"
   ]
  },
  {
   "cell_type": "code",
   "execution_count": 3,
   "metadata": {},
   "outputs": [
    {
     "name": "stdout",
     "output_type": "stream",
     "text": [
      "\n",
      "\n"
     ]
    }
   ],
   "source": [
    "new_file = open('new_file.txt', 'w+')\n",
    "# - 'w+' overwrites, we can read, but the file is ***BLANK***\n",
    "new_text = new_file.read()\n",
    "print(new_text)\n",
    "new_file.write(\"This is line #1 with 'w+'\\nThis is line #2 with 'w+'\\n\")\n",
    "#(Note: the pointer is at the end of the file - result = empty string)  \n",
    "new_text = new_file.read()\n",
    "print(new_text)\n"
   ]
  },
  {
   "cell_type": "code",
   "execution_count": 4,
   "metadata": {},
   "outputs": [
    {
     "name": "stdout",
     "output_type": "stream",
     "text": [
      "This is line #1 with 'w+'\n",
      "This is line #2 with 'w+'\n",
      "\n"
     ]
    }
   ],
   "source": [
    "new_file.seek(0)\n",
    "#now read starts from beginning of file\n",
    "new_text = new_file.read()\n",
    "print(new_text)\n",
    "\n",
    "# #  clean up and close file\n",
    "new_file.close()"
   ]
  },
  {
   "cell_type": "code",
   "execution_count": 5,
   "metadata": {},
   "outputs": [
    {
     "data": {
      "text/plain": [
       "32"
      ]
     },
     "execution_count": 5,
     "metadata": {},
     "output_type": "execute_result"
    }
   ],
   "source": [
    "file2 = open('outer_planets.txt','w+')\n",
    "file2.write(\"Jupyter \\nSaturn \\nUranus \\nNeptune\")\n",
    "\n"
   ]
  },
  {
   "cell_type": "code",
   "execution_count": 6,
   "metadata": {},
   "outputs": [
    {
     "name": "stdout",
     "output_type": "stream",
     "text": [
      "\n"
     ]
    }
   ],
   "source": [
    "rf = file2.read()\n",
    "print(rf)"
   ]
  },
  {
   "cell_type": "code",
   "execution_count": 7,
   "metadata": {},
   "outputs": [
    {
     "name": "stdout",
     "output_type": "stream",
     "text": [
      "Jupyter \n",
      "Saturn \n",
      "Uranus \n",
      "Neptune\n"
     ]
    }
   ],
   "source": [
    "file2.seek(0)\n",
    "rf = file2.read()\n",
    "print(rf)\n",
    "file2.close()"
   ]
  },
  {
   "cell_type": "markdown",
   "metadata": {},
   "source": [
    "# .seek() offset and whence \n"
   ]
  },
  {
   "cell_type": "markdown",
   "metadata": {},
   "source": [
    "# the example below moves to the character to offset 10 (the 11th character) new_file.seek(10)\n"
   ]
  },
  {
   "cell_type": "markdown",
   "metadata": {},
   "source": [
    "# new_file.seek(10,0) using 0 for whence starts the offset from the beginning of the file"
   ]
  },
  {
   "cell_type": "markdown",
   "metadata": {},
   "source": [
    "# whence mode\tdescription\n",
    "0\tpoints to the beginning of the file\n",
    "\n",
    "1\tpoints to the current location\n",
    "\n",
    "2\tpoints to the end of the file & offset is always 0"
   ]
  },
  {
   "cell_type": "code",
   "execution_count": 8,
   "metadata": {},
   "outputs": [
    {
     "name": "stdout",
     "output_type": "stream",
     "text": [
      "-use simple function and variable names\n",
      "-comment code\n",
      "-organize code into functions\n",
      "\n"
     ]
    }
   ],
   "source": [
    "tips_file = open('code_tips.txt', 'w+')\n",
    "tips_file.write('-use simple function and variable names\\n-comment code\\n-organize code into functions\\n')\n",
    "tips_file.seek(0)\n",
    "tips_text = tips_file.read()\n",
    "print(tips_text)"
   ]
  },
  {
   "cell_type": "code",
   "execution_count": 9,
   "metadata": {},
   "outputs": [
    {
     "name": "stdout",
     "output_type": "stream",
     "text": [
      "unction and variable names\n",
      "-comment code\n",
      "-organize code into functions\n",
      "\n"
     ]
    }
   ],
   "source": [
    "tips_file.seek(13)\n",
    "# now read starts from 14th character of file\n",
    "tips_text = tips_file.read()\n",
    "print(tips_text)"
   ]
  },
  {
   "cell_type": "code",
   "execution_count": 10,
   "metadata": {},
   "outputs": [
    {
     "name": "stdout",
     "output_type": "stream",
     "text": [
      "unction and variable names\n",
      "-comment code\n",
      "-organize code into functions\n",
      "\n"
     ]
    }
   ],
   "source": [
    "tips_file.seek(0)\n",
    "tips_text = tips_file.read()\n",
    "\n",
    "# slice from the 14th character to end\n",
    "print(tips_text[13:])"
   ]
  },
  {
   "cell_type": "code",
   "execution_count": 11,
   "metadata": {},
   "outputs": [
    {
     "name": "stdout",
     "output_type": "stream",
     "text": [
      "-use simple function and variable names\n",
      "-comment code\n",
      "-organize code into functions\n",
      "-use seek(0,2) to set read/write at end of file\n",
      "\n",
      "-USE SIMPLE FUNCTION AND VARIABLE NAMES\n",
      "-comment code\n",
      "-organize code into functions\n",
      "-use seek(0,2) to set read/write at end of file\n",
      "\n"
     ]
    }
   ],
   "source": [
    "tips_file.seek(0,2)\n",
    "tips_file.write(\"-use seek(0,2) to set read/write at end of file\\n\")\n",
    "\n",
    "# read from beginning of file - .seek(0,0) is same as .seek(0)\n",
    "tips_file.seek(0,0)\n",
    "tips_text = tips_file.read()\n",
    "print(tips_text)\n",
    "# [ ] review and run example - point to file beginning and overwrite 1st line\n",
    "tips_file.seek(0)\n",
    "tips_file.write('-use simple function and variable names\\n'.upper())\n",
    "\n",
    "# [ ] review and run example - show new file contents\n",
    "tips_file.seek(0,0)\n",
    "tips_text = tips_file.read()\n",
    "print(tips_text)\n"
   ]
  },
  {
   "cell_type": "code",
   "execution_count": 12,
   "metadata": {},
   "outputs": [
    {
     "name": "stdout",
     "output_type": "stream",
     "text": [
      "Monday\n",
      "Tuesday\n",
      "Wednesday\n",
      "Thursday\n",
      "Friday\n",
      "Saturday\n",
      "Sunday\n",
      "\n",
      "\n",
      "Monday\n",
      "Tuesday\n",
      "Wednesday\n",
      "Thursday\n",
      "Friday\n",
      "Saturday\n",
      "Sunday\n",
      "saturday\n",
      "Sunday\n"
     ]
    }
   ],
   "source": [
    "file3 = open('days.txt','w+')\n",
    "file3.write('Monday\\nTuesday\\nWednesday\\nThursday\\nFriday\\nSaturday\\nSunday\\n')\n",
    "file3.seek(0)\n",
    "rf1 = file3.read()\n",
    "print(rf1)\n",
    "print()\n",
    "\n",
    "file3.seek(0,2)\n",
    "file3.write('saturday\\nSunday')\n",
    "file3.seek(0,0)\n",
    "rf2 = file3.read()\n",
    "print(rf2)"
   ]
  },
  {
   "cell_type": "markdown",
   "metadata": {},
   "source": [
    "# MODE\tDescription\n",
    "'r'\tread only mode\n",
    "\n",
    "'w'\twrite - overwrites file with same name\n",
    "\n",
    "'w+'\twrite and read mode - overwrites file with same name\n",
    "\n",
    "'r+'\tread and write mode (no overwrite)\n",
    "\n",
    "'a'\topens for appending to end of file (no overwrite)\n",
    "\n",
    "'a+'\topens for appending to end of file (no overwrite) plus read"
   ]
  },
  {
   "cell_type": "markdown",
   "metadata": {},
   "source": [
    "# read mode plus write 'r+' and append modes 'a', 'a+'\n"
   ]
  },
  {
   "cell_type": "markdown",
   "metadata": {},
   "source": [
    "read plus mode 'r+' differs from write modes 'w', 'w+'\n",
    "\n",
    "read plus doesn't blank out the file contents with an overwrite\n",
    "\n",
    "append modes 'a', 'a+' differ from write modes 'w', 'w+'\n",
    "\n",
    "append doesn't blank out the file contents with an overwrite\n",
    "\n",
    "append pointer is set to the end of the file for every write\n",
    "\n",
    "append plus (a+) is append mode, plus read mode\n"
   ]
  },
  {
   "cell_type": "code",
   "execution_count": 13,
   "metadata": {},
   "outputs": [
    {
     "name": "stdout",
     "output_type": "stream",
     "text": [
      "enter log item (enter to quit): k\n",
      "enter log item (enter to quit): l\n",
      "enter log item (enter to quit): \n",
      "\n",
      "1: k\n",
      "2: l\n",
      "\n"
     ]
    }
   ],
   "source": [
    "def logger(log):\n",
    "    log_entry = input(\"enter log item (enter to quit): \")\n",
    "    count = 0\n",
    "\n",
    "    while log_entry:\n",
    "        count += 1\n",
    "        log.write(str(count) + \": \" + log_entry + \"\\n\")\n",
    "        log_entry = input(\"enter log item (enter to quit): \")\n",
    "        \n",
    "    return count\n",
    "    \n",
    "# makes a blank file  (initialize/reset)\n",
    "\n",
    "log_file = open('log_file.txt', 'w+')\n",
    "log_file.close()\n",
    "# opens the log_file before passing to logger() function call, below\n",
    "# allows for calls below to run several times appending to the end of log_file\n",
    "\n",
    "log_file = open('log_file.txt', 'a+')\n",
    "# calls the above logger() function\n",
    "# what happens running the cell above (a+) again before running this cell again? \n",
    "# what happens if log_file.seek(0) is run before an append?\n",
    "\n",
    "logger(log_file)    \n",
    "\n",
    "log_file.seek(0)\n",
    "log_text = log_file.read()\n",
    "\n",
    "print()\n",
    "print(log_text)\n",
    "log_file.close()"
   ]
  },
  {
   "cell_type": "code",
   "execution_count": 14,
   "metadata": {},
   "outputs": [
    {
     "name": "stdout",
     "output_type": "stream",
     "text": [
      "Count is: 0\n",
      "BEFORE\n",
      "Count is: 0\n",
      "\n",
      "AFTER\n",
      "Count is: 1\n",
      "BEFORE\n",
      "Count is: 1\n",
      "\n",
      "AFTER inc_count() call 1 \n",
      "Count is: 2\n",
      "\n",
      "AFTER inc_count() call 2 \n",
      "Count is: 3\n",
      "\n",
      "AFTER inc_count() call 3 \n",
      "Count is: 4\n",
      "\n",
      "AFTER inc_count() call 4 \n",
      "Count is: 5\n",
      "\n",
      "AFTER inc_count() call 5 \n",
      "Count is: 6\n"
     ]
    }
   ],
   "source": [
    "count_file = open(\"count_file.txt\", \"w+\")\n",
    "\n",
    "count_file.write(\"Count is: 0\")\n",
    "count_file.seek(0)\n",
    "print(count_file.readline().strip())\n",
    "\n",
    "count_file.close()\n",
    "# [ ] review and run example - can rerun this cell\n",
    "count_file = open(\"count_file.txt\", \"r+\")\n",
    "\n",
    "count_file.seek(0)\n",
    "count_line = count_file.readline().strip()\n",
    "print(\"BEFORE\\n\" + count_line)\n",
    "\n",
    "# get the int character(s) after the colon and space, cast and increment\n",
    "count = int(count_line[10:])+1\n",
    "\n",
    "# write the incremented value to the file - overwrite before value\n",
    "count_file.seek(10)\n",
    "count_file.write(str(count))\n",
    "\n",
    "count_file.seek(0)\n",
    "print(\"\\nAFTER\\n\" + count_file.readline().strip())\n",
    "\n",
    "count_file.close()\n",
    "# [ ]  review funtion code for inc_count() funtion that reads file and updates the count\n",
    "# the file always has 1 line that is The count is: N, where N is an integer\n",
    "def inc_count(cnt_file):\n",
    "    cnt_file.seek(0,0)\n",
    "    cnt_line = cnt_file.readline().strip()\n",
    "    cnt = int(cnt_line[10:])+1\n",
    "    cnt_file.seek(10,0)\n",
    "    cnt_file.write(str(cnt))\n",
    "    return cnt\n",
    "# [ ] review and run example with call to function: inc_count() - **Run cell multiple times**\n",
    "# opens file/prints initial value\n",
    "count_file = open(\"count_file.txt\", \"r+\")\n",
    "\n",
    "count_file.seek(0)\n",
    "count_line = count_file.readline().strip()\n",
    "print(\"BEFORE\\n\" + count_line)\n",
    "\n",
    "# call inc_count() to increase the count 5 times\n",
    "for i in range(5):\n",
    "    count = inc_count(count_file)\n",
    "    count_file.seek(0)\n",
    "    print(\"\\nAFTER inc_count() call\", i+1, \"\\n\" + count_file.readline().strip())\n",
    "\n",
    "count_file.close()\n"
   ]
  },
  {
   "cell_type": "code",
   "execution_count": 15,
   "metadata": {},
   "outputs": [
    {
     "name": "stdout",
     "output_type": "stream",
     "text": [
      "Line1\n",
      "Line2\n",
      "Line3\n",
      "append #0\n",
      "append #1\n",
      "append #2\n",
      "append #3\n",
      "append #4\n",
      "append #0\n",
      "append #1\n",
      "append #2\n",
      "append #3\n",
      "append #4\n",
      "append #0\n",
      "append #1\n",
      "append #2\n",
      "append #3\n",
      "append #4\n",
      "append #0\n",
      "append #1\n",
      "append #2\n",
      "append #3\n",
      "append #4\n",
      "\n"
     ]
    }
   ],
   "source": [
    "#task4_file = open('task4_file.txt', 'w+')\n",
    "task4_file = open('task4_file.txt','a+')\n",
    "#task4_file.write( \"Line1\\nLine2\\nLine3\\n\")\n",
    "for i in range(5):\n",
    "    task4_file.write(\"append #\"+ str(i)+\"\\n\")\n",
    "    task4_file.seek(0)\n",
    "task4_filerf = task4_file.read()\n",
    "print(task4_filerf)"
   ]
  },
  {
   "cell_type": "code",
   "execution_count": 16,
   "metadata": {},
   "outputs": [
    {
     "name": "stdout",
     "output_type": "stream",
     "text": [
      "pend#1\n",
      "append#2\n",
      "append#3\n",
      "append#4\n",
      "append#1\n",
      "append#2\n",
      "append#3\n",
      "append#4\n",
      "Line---1\n",
      "Line---2\n",
      "Line---3\n",
      "Line---4\n",
      "Line---5\n",
      "Line---6\n",
      "Line---7\n",
      "Line---8\n",
      "line---9\\lineappend#1\n",
      "append#2\n",
      "append#3\n",
      "append#4\n",
      "Line---1\n",
      "Line---2\n",
      "Line---3\n",
      "Line---4\n",
      "Line---5\n",
      "Line---6\n",
      "Line---7\n",
      "Line---8\n",
      "line---9\\lineappend#1\n",
      "append#2\n",
      "append#3\n",
      "append#4\n",
      "\n"
     ]
    }
   ],
   "source": [
    "task5_file = open('task5_file.txt', 'a+')\n",
    "task5_file.write(\"Line---1\\nLine---2\\nLine---3\\nLine---4\\nLine---5\\nLine---6\\nLine---7\\nLine---8\\nline---9\\line\")\n",
    "for i in range(1,5):\n",
    "    task5_file.write(\"append#\" + str(i)+ \"\\n\")\n",
    "    task5_file.seek(i*18)\n",
    "task5_filerf = task5_file.read()\n",
    "print(task5_filerf)"
   ]
  },
  {
   "cell_type": "code",
   "execution_count": null,
   "metadata": {
    "collapsed": true
   },
   "outputs": [],
   "source": []
  }
 ],
 "metadata": {
  "kernelspec": {
   "display_name": "Python 3",
   "language": "python",
   "name": "python3"
  },
  "language_info": {
   "codemirror_mode": {
    "name": "ipython",
    "version": 3
   },
   "file_extension": ".py",
   "mimetype": "text/x-python",
   "name": "python",
   "nbconvert_exporter": "python",
   "pygments_lexer": "ipython3",
   "version": "3.6.3"
  }
 },
 "nbformat": 4,
 "nbformat_minor": 2
}
