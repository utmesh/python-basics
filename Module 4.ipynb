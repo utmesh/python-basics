{
 "cells": [
  {
   "cell_type": "code",
   "execution_count": 1,
   "metadata": {},
   "outputs": [
    {
     "name": "stdout",
     "output_type": "stream",
     "text": [
      "red\r\n",
      "orange\r\n",
      "yellow\r\n",
      "green\r\n",
      "blue\r\n",
      "indigo\r\n",
      "violet\r\n",
      "curl: (6) Could not resolve host: rainbow.txt\r\n"
     ]
    }
   ],
   "source": [
    "!curl https://raw.githubusercontent.com/MicrosoftLearning/intropython/master/rainbow -0 rainbow.txt\n",
    "rainbow_file = open('rainbow.txt','r')"
   ]
  },
  {
   "cell_type": "code",
   "execution_count": 2,
   "metadata": {},
   "outputs": [
    {
     "name": "stdout",
     "output_type": "stream",
     "text": [
      "red\n",
      "orange\n",
      "yellow\n",
      "green\n",
      "blue\n",
      "indigo\n",
      "violet\n",
      "curl: (6) Could not resolve host: rainbow.txt\n",
      "['blue\\n', 'green\\n', 'indigo\\n', 'orange\\n', 'red\\n', 'violet\\n', 'yellow\\n']\n",
      "blue\n",
      "\n",
      "green\n",
      "\n",
      "indigo\n",
      "\n",
      "orange\n",
      "\n",
      "red\n",
      "\n",
      "violet\n",
      "\n",
      "yellow\n",
      "\n"
     ]
    }
   ],
   "source": [
    "!curl https://raw.githubusercontent.com/MicrosoftLearning/intropython/master/rainbow -0 rainbow.txt\n",
    "rainbow_file = open('rainbow.txt','r')\n",
    "rainbow_colors = rainbow_file.readlines()\n",
    "rainbow_colors.sort()\n",
    "print(rainbow_colors)\n",
    "for i in rainbow_colors:\n",
    "    print(i)\n",
    "rainbow_file.close()"
   ]
  },
  {
   "cell_type": "code",
   "execution_count": 10,
   "metadata": {},
   "outputs": [
    {
     "name": "stdout",
     "output_type": "stream",
     "text": [
      "city,country,month ave: highest high,month ave: lowest low\r\n",
      "Beijing,China,30.9,-8.4\r\n",
      "Cairo,Egypt,34.7,1.2\r\n",
      "London,UK,23.5,2.1\r\n",
      "Nairobi,Kenya,26.3,10.5\r\n",
      "New York City,USA,28.9,-2.8\r\n",
      "Sydney,Australia,26.5,8.7\r\n",
      "Tokyo,Japan,30.8,0.9\r\n",
      "curl: (6) Could not resolve host: mean_temp.txt\r\n"
     ]
    },
    {
     "ename": "FileNotFoundError",
     "evalue": "[Errno 2] No such file or directory: 'mean_temp.txt'",
     "output_type": "error",
     "traceback": [
      "\u001b[0;31m---------------------------------------------------------------------------\u001b[0m",
      "\u001b[0;31mFileNotFoundError\u001b[0m                         Traceback (most recent call last)",
      "\u001b[0;32m<ipython-input-10-bc5104372515>\u001b[0m in \u001b[0;36m<module>\u001b[0;34m()\u001b[0m\n\u001b[1;32m      1\u001b[0m \u001b[0mget_ipython\u001b[0m\u001b[0;34m(\u001b[0m\u001b[0;34m)\u001b[0m\u001b[0;34m.\u001b[0m\u001b[0msystem\u001b[0m\u001b[0;34m(\u001b[0m\u001b[0;34m'curl https://raw.githubusercontent.com/MicrosoftLearning/intropython/master/world_temp_mean.csv -0 mean_temp.txt'\u001b[0m\u001b[0;34m)\u001b[0m\u001b[0;34m\u001b[0m\u001b[0m\n\u001b[0;32m----> 2\u001b[0;31m \u001b[0mmeantemp_file\u001b[0m \u001b[0;34m=\u001b[0m \u001b[0mopen\u001b[0m\u001b[0;34m(\u001b[0m\u001b[0;34m'mean_temp.txt'\u001b[0m\u001b[0;34m,\u001b[0m\u001b[0;34m'r'\u001b[0m\u001b[0;34m)\u001b[0m\u001b[0;34m\u001b[0m\u001b[0m\n\u001b[0m\u001b[1;32m      3\u001b[0m \u001b[0mheadings\u001b[0m \u001b[0;34m=\u001b[0m \u001b[0mmeantemp_file\u001b[0m\u001b[0;34m.\u001b[0m\u001b[0mreadline\u001b[0m\u001b[0;34m(\u001b[0m\u001b[0;34m)\u001b[0m\u001b[0;34m\u001b[0m\u001b[0m\n\u001b[1;32m      4\u001b[0m \u001b[0mprint\u001b[0m\u001b[0;34m(\u001b[0m\u001b[0mheadings\u001b[0m\u001b[0;34m)\u001b[0m\u001b[0;34m\u001b[0m\u001b[0m\n\u001b[1;32m      5\u001b[0m \u001b[0mhl\u001b[0m \u001b[0;34m=\u001b[0m \u001b[0mheadings\u001b[0m\u001b[0;34m.\u001b[0m\u001b[0msplit\u001b[0m\u001b[0;34m(\u001b[0m\u001b[0;34m','\u001b[0m\u001b[0;34m)\u001b[0m\u001b[0;34m\u001b[0m\u001b[0m\n",
      "\u001b[0;31mFileNotFoundError\u001b[0m: [Errno 2] No such file or directory: 'mean_temp.txt'"
     ]
    }
   ],
   "source": [
    "!curl https://raw.githubusercontent.com/MicrosoftLearning/intropython/master/world_temp_mean.csv -0 mean_temp.txt\n",
    "meantemp_file = open('mean_temp.txt','r')\n",
    "headings = meantemp_file.readline()\n",
    "print(headings)\n",
    "hl = headings.split(',')\n",
    "print(hl)\n",
    "city_temp = meantemp_file.readline()\n",
    "while city_temp:\n",
    "    city_temp.split(',')\n",
    "    for city in city_temp:\n",
    "        print(city)\n",
    "meantemp_file.close()\n",
    "    \n",
    "    "
   ]
  },
  {
   "cell_type": "code",
   "execution_count": 11,
   "metadata": {},
   "outputs": [
    {
     "name": "stdout",
     "output_type": "stream",
     "text": [
      "3.141592653589793238462643383279502884197169399375105820974944592307816406286208998628034825342117067982148086513282306647093844609550582231725359408128481117450284102701938521105559644622948954930381964428810975665933446128475648233786783165271201909145648566923460348610454326648213393607260249141273\n",
      "curl: (6) Could not resolve host: pi.txt\n"
     ]
    }
   ],
   "source": []
  },
  {
   "cell_type": "code",
   "execution_count": 16,
   "metadata": {},
   "outputs": [
    {
     "name": "stdout",
     "output_type": "stream",
     "text": [
      "3.141592653589793238462643383279502884197169399375105820974944592307816406286208998628034825342117067982148086513282306647093844609550582231725359408128481117450284102701938521105559644622948954930381964428810975665933446128475648233786783165271201909145648566923460348610454326648213393607260249141273\r\n",
      "curl: (6) Could not resolve host: pi.txt\r\n"
     ]
    },
    {
     "ename": "FileNotFoundError",
     "evalue": "[Errno 2] No such file or directory: 'pi.txt'",
     "output_type": "error",
     "traceback": [
      "\u001b[0;31m---------------------------------------------------------------------------\u001b[0m",
      "\u001b[0;31mFileNotFoundError\u001b[0m                         Traceback (most recent call last)",
      "\u001b[0;32m<ipython-input-16-e6de5353f632>\u001b[0m in \u001b[0;36m<module>\u001b[0;34m()\u001b[0m\n\u001b[1;32m      1\u001b[0m \u001b[0mget_ipython\u001b[0m\u001b[0;34m(\u001b[0m\u001b[0;34m)\u001b[0m\u001b[0;34m.\u001b[0m\u001b[0msystem\u001b[0m\u001b[0;34m(\u001b[0m\u001b[0;34m'curl https://raw.githubusercontent.com/MicrosoftLearning/intropython/master/digits_of_pi -0 pi.txt'\u001b[0m\u001b[0;34m)\u001b[0m\u001b[0;34m\u001b[0m\u001b[0m\n\u001b[0;32m----> 2\u001b[0;31m \u001b[0mpi_file\u001b[0m \u001b[0;34m=\u001b[0m \u001b[0mopen\u001b[0m\u001b[0;34m(\u001b[0m\u001b[0;34m'pi.txt'\u001b[0m\u001b[0;34m,\u001b[0m\u001b[0;34m'r'\u001b[0m\u001b[0;34m)\u001b[0m\u001b[0;34m\u001b[0m\u001b[0m\n\u001b[0m\u001b[1;32m      3\u001b[0m \u001b[0minput1\u001b[0m \u001b[0;34m=\u001b[0m \u001b[0minput\u001b[0m\u001b[0;34m(\u001b[0m\u001b[0;34m'say hi '\u001b[0m\u001b[0;34m)\u001b[0m\u001b[0;34m\u001b[0m\u001b[0m\n\u001b[1;32m      4\u001b[0m \u001b[0mseed\u001b[0m \u001b[0;34m=\u001b[0m \u001b[0mlen\u001b[0m\u001b[0;34m(\u001b[0m\u001b[0mname\u001b[0m\u001b[0;34m)\u001b[0m\u001b[0;34m\u001b[0m\u001b[0m\n\u001b[1;32m      5\u001b[0m \u001b[0mpi_file\u001b[0m\u001b[0;34m.\u001b[0m\u001b[0mseek\u001b[0m\u001b[0;34m(\u001b[0m\u001b[0mseed\u001b[0m\u001b[0;34m)\u001b[0m\u001b[0;34m\u001b[0m\u001b[0m\n",
      "\u001b[0;31mFileNotFoundError\u001b[0m: [Errno 2] No such file or directory: 'pi.txt'"
     ]
    }
   ],
   "source": [
    "!curl https://raw.githubusercontent.com/MicrosoftLearning/intropython/master/digits_of_pi -0 pi.txt\n",
    "pi_file = open('pi.txt','r')\n",
    "input1 = input('say hi ')\n",
    "seed = len(name)\n",
    "pi_file.seek(seed)\n",
    "digit = pi_file.read(1)\n",
    "guess = input(\"enter a single digit guess or 'q' to quit\")\n",
    "wrong = 0\n",
    "correct = 0\n",
    "while guess:\n",
    "    if digit == '.':\n",
    "        pass\n",
    "    elif digit == '\\n':\n",
    "        seed += 1\n",
    "    else:\n",
    "        if guess == digit:\n",
    "            print('correct')\n",
    "            correct += 1\n",
    "        elif guess != digit:\n",
    "            print('wrong')\n",
    "            wrong += 1\n",
    "        elif guess == 'q':\n",
    "            break\n",
    "pi_file.close()"
   ]
  },
  {
   "cell_type": "code",
   "execution_count": 17,
   "metadata": {},
   "outputs": [
    {
     "name": "stdout",
     "output_type": "stream",
     "text": [
      "city,country,month ave: highest high,month ave: lowest low\n",
      "Beijing,China,30.9,-8.4\n",
      "Cairo,Egypt,34.7,1.2\n",
      "London,UK,23.5,2.1\n",
      "Nairobi,Kenya,26.3,10.5\n",
      "New York City,USA,28.9,-2.8\n",
      "Sydney,Australia,26.5,8.7\n",
      "Tokyo,Japan,30.8,0.9\n",
      "curl: (6) Could not resolve host: mean_temp.txt\n"
     ]
    },
    {
     "ename": "FileNotFoundError",
     "evalue": "[Errno 2] No such file or directory: 'mean_temp.txt'",
     "output_type": "error",
     "traceback": [
      "\u001b[0;31m---------------------------------------------------------------------------\u001b[0m",
      "\u001b[0;31mFileNotFoundError\u001b[0m                         Traceback (most recent call last)",
      "\u001b[0;32m<ipython-input-17-bc5104372515>\u001b[0m in \u001b[0;36m<module>\u001b[0;34m()\u001b[0m\n\u001b[1;32m      1\u001b[0m \u001b[0mget_ipython\u001b[0m\u001b[0;34m(\u001b[0m\u001b[0;34m)\u001b[0m\u001b[0;34m.\u001b[0m\u001b[0msystem\u001b[0m\u001b[0;34m(\u001b[0m\u001b[0;34m'curl https://raw.githubusercontent.com/MicrosoftLearning/intropython/master/world_temp_mean.csv -0 mean_temp.txt'\u001b[0m\u001b[0;34m)\u001b[0m\u001b[0;34m\u001b[0m\u001b[0m\n\u001b[0;32m----> 2\u001b[0;31m \u001b[0mmeantemp_file\u001b[0m \u001b[0;34m=\u001b[0m \u001b[0mopen\u001b[0m\u001b[0;34m(\u001b[0m\u001b[0;34m'mean_temp.txt'\u001b[0m\u001b[0;34m,\u001b[0m\u001b[0;34m'r'\u001b[0m\u001b[0;34m)\u001b[0m\u001b[0;34m\u001b[0m\u001b[0m\n\u001b[0m\u001b[1;32m      3\u001b[0m \u001b[0mheadings\u001b[0m \u001b[0;34m=\u001b[0m \u001b[0mmeantemp_file\u001b[0m\u001b[0;34m.\u001b[0m\u001b[0mreadline\u001b[0m\u001b[0;34m(\u001b[0m\u001b[0;34m)\u001b[0m\u001b[0;34m\u001b[0m\u001b[0m\n\u001b[1;32m      4\u001b[0m \u001b[0mprint\u001b[0m\u001b[0;34m(\u001b[0m\u001b[0mheadings\u001b[0m\u001b[0;34m)\u001b[0m\u001b[0;34m\u001b[0m\u001b[0m\n\u001b[1;32m      5\u001b[0m \u001b[0mhl\u001b[0m \u001b[0;34m=\u001b[0m \u001b[0mheadings\u001b[0m\u001b[0;34m.\u001b[0m\u001b[0msplit\u001b[0m\u001b[0;34m(\u001b[0m\u001b[0;34m','\u001b[0m\u001b[0;34m)\u001b[0m\u001b[0;34m\u001b[0m\u001b[0m\n",
      "\u001b[0;31mFileNotFoundError\u001b[0m: [Errno 2] No such file or directory: 'mean_temp.txt'"
     ]
    }
   ],
   "source": [
    "!curl https://raw.githubusercontent.com/MicrosoftLearning/intropython/master/world_temp_mean.csv -0 mean_temp.txt\n",
    "meantemp_file = open('mean_temp.txt','r')\n",
    "headings = meantemp_file.readline()\n",
    "print(headings)\n",
    "hl = headings.split(',')\n",
    "print(hl)\n",
    "city_temp = meantemp_file.readline()\n",
    "while city_temp:\n",
    "    city_temp.split(',')\n",
    "    for city in city_temp:\n",
    "        print(city)\n",
    "meantemp_file.close()\n",
    "    \n",
    "    "
   ]
  },
  {
   "cell_type": "code",
   "execution_count": null,
   "metadata": {
    "collapsed": true
   },
   "outputs": [],
   "source": []
  }
 ],
 "metadata": {
  "kernelspec": {
   "display_name": "Python 3",
   "language": "python",
   "name": "python3"
  },
  "language_info": {
   "codemirror_mode": {
    "name": "ipython",
    "version": 3
   },
   "file_extension": ".py",
   "mimetype": "text/x-python",
   "name": "python",
   "nbconvert_exporter": "python",
   "pygments_lexer": "ipython3",
   "version": "3.6.3"
  }
 },
 "nbformat": 4,
 "nbformat_minor": 2
}
